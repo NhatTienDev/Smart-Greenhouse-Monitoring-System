{
  "cells": [
    {
      "cell_type": "markdown",
      "metadata": {
        "id": "G8yy4EEfg7H6"
      },
      "source": [
        "# **Theory for training simple Deep Learning model**"
      ]
    },
    {
      "cell_type": "markdown",
      "metadata": {
        "id": "RnqJTvpaw89z"
      },
      "source": [
        "Để phân tích dữ liệu dựa trên các cảm biến như độ pH (pH sensor), độ khử oxy (ORP sensor), độ dẫn điện (EC sensor), và độ đục nước (TUR sensor) và dự đoán dữ liệu tương lai sử dụng mô hình Long Short-Term Memory (LSTM), bạn cần thực hiện các bước trong pipeline dưới đây. LSTM rất phù hợp để xử lý các bài toán chuỗi thời gian, vì nó có khả năng ghi nhớ các thông tin dài hạn trong chuỗi.\n",
        "\n",
        "**Pipeline cho mô hình LSTM**\n",
        "\n",
        "**Bước 1: Chuẩn bị dữ liệu**\n",
        "\n",
        "**1. Thu thập dữ liệu:** Đảm bảo bạn đã thu thập đủ dữ liệu từ các cảm biến trong một khoảng thời gian đủ dài. Các cảm biến pH, ORP, EC, TUR có thể có các tín hiệu liên tục theo thời gian (chuỗi thời gian).\n",
        "\n",
        "**2. Tiền xử lý dữ liệu:**\n",
        "\n",
        "* Xử lý giá trị thiếu: Nếu có giá trị thiếu trong dữ liệu, bạn có thể điền giá trị này bằng phương pháp interpolation hoặc sử dụng giá trị trung bình.\n",
        "\n",
        "* Làm sạch dữ liệu: Loại bỏ các giá trị ngoại lệ hoặc điều chỉnh dữ liệu nếu cần.\n",
        "\n",
        "* Chuẩn hóa dữ liệu: Các giá trị từ các cảm biến này có thể có các thang đo khác nhau, vì vậy bạn nên chuẩn hóa chúng về cùng một thang đo (ví dụ: sử dụng Min-Max Scaling hoặc Standardization).\n",
        "\n",
        "* Chia dữ liệu thành các cửa sổ thời gian: LSTM yêu cầu dữ liệu đầu vào ở dạng chuỗi, vì vậy bạn cần chuyển dữ liệu thành các cửa sổ thời gian (time windows). Ví dụ, bạn có thể tạo một cửa sổ thời gian bao gồm các giá trị của 5 hoặc 10 thời điểm trước để dự đoán giá trị tại thời điểm tiếp theo.\n",
        "\n",
        "**3. Chia dữ liệu thành tập huấn luyện và kiểm tra:**\n",
        "\n",
        "* Chia dữ liệu thành các phần huấn luyện và kiểm tra (ví dụ: 80% cho huấn luyện và 20% cho kiểm tra).\n",
        "\n",
        "* Đảm bảo rằng dữ liệu huấn luyện và kiểm tra không chồng chéo lên nhau nếu bạn đang sử dụng dữ liệu chuỗi thời gian.\n",
        "\n",
        "**Bước 2: Xây dựng mô hình LSTM**\n",
        "\n",
        "**1. Xây dựng mô hình LSTM:** Mô hình LSTM sẽ gồm các lớp LSTM với các tham số thích hợp. Bạn sẽ cần một lớp đầu vào, sau đó một hoặc nhiều lớp LSTM, và cuối cùng là một lớp Dense để xuất ra giá trị dự báo.\n",
        "\n",
        "**2. Cấu trúc mô hình LSTM:**\n",
        "\n",
        "* Input Layer: Kích thước của đầu vào phải phù hợp với số lượng cửa sổ thời gian bạn muốn sử dụng.\n",
        "\n",
        "* LSTM Layer(s): Có thể thêm một hoặc nhiều lớp LSTM với các tham số như số lượng units, activation function, và return_sequences.\n",
        "\n",
        "* Dense Layer: Lớp Dense sẽ được sử dụng để đưa ra dự báo cuối cùng.\n",
        "\n",
        "* Output Layer: Một đơn vị đầu ra (nếu bạn đang dự đoán một giá trị liên tục).\n",
        "\n",
        "**Bước 3: Huấn luyện mô hình**\n",
        "\n",
        "**1. Chọn loss function và optimizer:**\n",
        "\n",
        "* Loss function: Dùng MSE (Mean Squared Error) cho các bài toán hồi quy.\n",
        "\n",
        "* Optimizer: Adam là một lựa chọn phổ biến cho mô hình LSTM vì khả năng điều chỉnh learning rate tự động.\n",
        "\n",
        "**2. Huấn luyện mô hình:**\n",
        "\n",
        "* Huấn luyện mô hình trên dữ liệu huấn luyện và kiểm tra trên dữ liệu kiểm tra.\n",
        "\n",
        "* Lưu ý điều chỉnh số epoch và batch size sao cho phù hợp với dữ liệu của bạn.\n",
        "\n",
        "**Bước 4: Đánh giá mô hình**\n",
        "\n",
        "**1. Đánh giá hiệu suất mô hình:**\n",
        "\n",
        "* Sử dụng các chỉ số như MSE (Mean Squared Error) hoặc RMSE (Root Mean Squared Error) để đánh giá hiệu quả của mô hình.\n",
        "\n",
        "* Visualize kết quả dự báo so với dữ liệu thực tế để đánh giá khả năng dự báo.\n",
        "\n",
        "**Bước 5: Dự báo dữ liệu tương lai**\n",
        "\n",
        "Sau khi huấn luyện mô hình, bạn có thể sử dụng mô hình này để dự báo các giá trị trong tương lai dựa trên dữ liệu quá khứ.\n",
        "\n",
        "**Mối Quan Hệ Giữa Các Dữ Liệu:**\n",
        "\n",
        "* pH và ORP: pH có thể ảnh hưởng trực tiếp đến ORP. Nước có pH thấp (axit) thường sẽ có ORP thấp, trong khi pH cao (kiềm) có thể làm tăng ORP.\n",
        "\n",
        "* EC và pH: Nước có độ mặn cao thường có pH ổn định hơn do ảnh hưởng của các ion muối trong nước. Do đó, khi EC cao, pH có thể có xu hướng ổn định.\n",
        "\n",
        "* EC và TUR: Nếu độ đục của nước cao, có thể dẫn đến giảm khả năng dẫn điện (EC) vì sự hiện diện của các chất bẩn làm giảm khả năng ion hóa trong nước. Tuy nhiên, trường hợp này có thể không đúng hoàn toàn nếu có sự hiện diện của nhiều ion hòa tan.\n",
        "\n",
        "* TUR và ORP: Độ đục nước cao có thể làm giảm lượng oxy hòa tan trong nước, từ đó ảnh hưởng đến giá trị ORP.\n",
        "\n",
        "**Tóm lại, nước biển có chất lượng tốt thường có:**\n",
        "\n",
        "* pH: 7.5 - 8.5\n",
        "\n",
        "* ORP: 200 mV - 300 mV\n",
        "\n",
        "* EC: 40,000 µS/cm - 60,000 µS/cm\n",
        "\n",
        "* TUR: 0 - 10 NTU"
      ]
    },
    {
      "cell_type": "markdown",
      "metadata": {
        "id": "qba_NxWrfxEz"
      },
      "source": [
        "# **Start to build the simple Deep Learning model**"
      ]
    },
    {
      "cell_type": "code",
      "execution_count": 38,
      "metadata": {
        "colab": {
          "base_uri": "https://localhost:8080/"
        },
        "id": "xJGTAn-jgYXS",
        "outputId": "3c854226-0c9f-4389-aa63-8f1d6cd922cf"
      },
      "outputs": [
        {
          "output_type": "stream",
          "name": "stdout",
          "text": [
            "Drive already mounted at /content/gdrive; to attempt to forcibly remount, call drive.mount(\"/content/gdrive\", force_remount=True).\n"
          ]
        }
      ],
      "source": [
        "# !pip install tensorflow\n",
        "# !pip install --upgrade tensorflow\n",
        "\n",
        "import pandas as pd\n",
        "import numpy as np\n",
        "import time\n",
        "import os\n",
        "import tensorflow as tf\n",
        "from sklearn.preprocessing import MinMaxScaler\n",
        "from tensorflow.keras.models import Sequential\n",
        "from tensorflow.keras.layers import LSTM, Dense, GRU\n",
        "from tensorflow.keras.layers import Dropout\n",
        "from tensorflow.keras.layers import Input\n",
        "from tensorflow.keras.layers import Flatten\n",
        "from tensorflow.keras.optimizers import Adam\n",
        "from sklearn.metrics import mean_squared_error, r2_score\n",
        "import matplotlib.pyplot as plt\n",
        "from tensorflow.keras.models import load_model\n",
        "from google.colab import drive\n",
        "drive.mount('/content/gdrive')"
      ]
    },
    {
      "cell_type": "code",
      "execution_count": 41,
      "metadata": {
        "colab": {
          "base_uri": "https://localhost:8080/",
          "height": 1000
        },
        "id": "p6IdaGfWa4-U",
        "outputId": "65b527ec-e77c-4f82-9273-7ff19aa0639f"
      },
      "outputs": [
        {
          "output_type": "stream",
          "name": "stdout",
          "text": [
            "Epoch 1/50\n",
            "\u001b[1m94/94\u001b[0m \u001b[32m━━━━━━━━━━━━━━━━━━━━\u001b[0m\u001b[37m\u001b[0m \u001b[1m3s\u001b[0m 9ms/step - loss: 0.0962 - val_loss: 0.0415\n",
            "Epoch 2/50\n",
            "\u001b[1m94/94\u001b[0m \u001b[32m━━━━━━━━━━━━━━━━━━━━\u001b[0m\u001b[37m\u001b[0m \u001b[1m1s\u001b[0m 7ms/step - loss: 0.0516 - val_loss: 0.0408\n",
            "Epoch 3/50\n",
            "\u001b[1m94/94\u001b[0m \u001b[32m━━━━━━━━━━━━━━━━━━━━\u001b[0m\u001b[37m\u001b[0m \u001b[1m0s\u001b[0m 4ms/step - loss: 0.0469 - val_loss: 0.0405\n",
            "Epoch 4/50\n",
            "\u001b[1m94/94\u001b[0m \u001b[32m━━━━━━━━━━━━━━━━━━━━\u001b[0m\u001b[37m\u001b[0m \u001b[1m0s\u001b[0m 4ms/step - loss: 0.0443 - val_loss: 0.0396\n",
            "Epoch 5/50\n",
            "\u001b[1m94/94\u001b[0m \u001b[32m━━━━━━━━━━━━━━━━━━━━\u001b[0m\u001b[37m\u001b[0m \u001b[1m1s\u001b[0m 4ms/step - loss: 0.0425 - val_loss: 0.0394\n",
            "Epoch 6/50\n",
            "\u001b[1m94/94\u001b[0m \u001b[32m━━━━━━━━━━━━━━━━━━━━\u001b[0m\u001b[37m\u001b[0m \u001b[1m1s\u001b[0m 4ms/step - loss: 0.0413 - val_loss: 0.0394\n",
            "Epoch 7/50\n",
            "\u001b[1m94/94\u001b[0m \u001b[32m━━━━━━━━━━━━━━━━━━━━\u001b[0m\u001b[37m\u001b[0m \u001b[1m1s\u001b[0m 4ms/step - loss: 0.0409 - val_loss: 0.0395\n",
            "Epoch 8/50\n",
            "\u001b[1m94/94\u001b[0m \u001b[32m━━━━━━━━━━━━━━━━━━━━\u001b[0m\u001b[37m\u001b[0m \u001b[1m1s\u001b[0m 4ms/step - loss: 0.0399 - val_loss: 0.0393\n",
            "Epoch 9/50\n",
            "\u001b[1m94/94\u001b[0m \u001b[32m━━━━━━━━━━━━━━━━━━━━\u001b[0m\u001b[37m\u001b[0m \u001b[1m1s\u001b[0m 4ms/step - loss: 0.0405 - val_loss: 0.0392\n",
            "Epoch 10/50\n",
            "\u001b[1m94/94\u001b[0m \u001b[32m━━━━━━━━━━━━━━━━━━━━\u001b[0m\u001b[37m\u001b[0m \u001b[1m1s\u001b[0m 4ms/step - loss: 0.0403 - val_loss: 0.0393\n",
            "Epoch 11/50\n",
            "\u001b[1m94/94\u001b[0m \u001b[32m━━━━━━━━━━━━━━━━━━━━\u001b[0m\u001b[37m\u001b[0m \u001b[1m1s\u001b[0m 4ms/step - loss: 0.0398 - val_loss: 0.0392\n",
            "Epoch 12/50\n",
            "\u001b[1m94/94\u001b[0m \u001b[32m━━━━━━━━━━━━━━━━━━━━\u001b[0m\u001b[37m\u001b[0m \u001b[1m1s\u001b[0m 4ms/step - loss: 0.0393 - val_loss: 0.0393\n",
            "Epoch 13/50\n",
            "\u001b[1m94/94\u001b[0m \u001b[32m━━━━━━━━━━━━━━━━━━━━\u001b[0m\u001b[37m\u001b[0m \u001b[1m0s\u001b[0m 4ms/step - loss: 0.0397 - val_loss: 0.0393\n",
            "Epoch 14/50\n",
            "\u001b[1m94/94\u001b[0m \u001b[32m━━━━━━━━━━━━━━━━━━━━\u001b[0m\u001b[37m\u001b[0m \u001b[1m0s\u001b[0m 4ms/step - loss: 0.0389 - val_loss: 0.0392\n",
            "Epoch 15/50\n",
            "\u001b[1m94/94\u001b[0m \u001b[32m━━━━━━━━━━━━━━━━━━━━\u001b[0m\u001b[37m\u001b[0m \u001b[1m0s\u001b[0m 4ms/step - loss: 0.0395 - val_loss: 0.0392\n",
            "Epoch 16/50\n",
            "\u001b[1m94/94\u001b[0m \u001b[32m━━━━━━━━━━━━━━━━━━━━\u001b[0m\u001b[37m\u001b[0m \u001b[1m1s\u001b[0m 4ms/step - loss: 0.0388 - val_loss: 0.0393\n",
            "Epoch 17/50\n",
            "\u001b[1m94/94\u001b[0m \u001b[32m━━━━━━━━━━━━━━━━━━━━\u001b[0m\u001b[37m\u001b[0m \u001b[1m1s\u001b[0m 4ms/step - loss: 0.0387 - val_loss: 0.0393\n",
            "Epoch 18/50\n",
            "\u001b[1m94/94\u001b[0m \u001b[32m━━━━━━━━━━━━━━━━━━━━\u001b[0m\u001b[37m\u001b[0m \u001b[1m1s\u001b[0m 4ms/step - loss: 0.0389 - val_loss: 0.0393\n",
            "Epoch 19/50\n",
            "\u001b[1m94/94\u001b[0m \u001b[32m━━━━━━━━━━━━━━━━━━━━\u001b[0m\u001b[37m\u001b[0m \u001b[1m0s\u001b[0m 4ms/step - loss: 0.0388 - val_loss: 0.0393\n",
            "Epoch 20/50\n",
            "\u001b[1m94/94\u001b[0m \u001b[32m━━━━━━━━━━━━━━━━━━━━\u001b[0m\u001b[37m\u001b[0m \u001b[1m0s\u001b[0m 4ms/step - loss: 0.0389 - val_loss: 0.0394\n",
            "Epoch 21/50\n",
            "\u001b[1m94/94\u001b[0m \u001b[32m━━━━━━━━━━━━━━━━━━━━\u001b[0m\u001b[37m\u001b[0m \u001b[1m1s\u001b[0m 6ms/step - loss: 0.0392 - val_loss: 0.0394\n",
            "Epoch 22/50\n",
            "\u001b[1m94/94\u001b[0m \u001b[32m━━━━━━━━━━━━━━━━━━━━\u001b[0m\u001b[37m\u001b[0m \u001b[1m1s\u001b[0m 7ms/step - loss: 0.0383 - val_loss: 0.0395\n",
            "Epoch 23/50\n",
            "\u001b[1m94/94\u001b[0m \u001b[32m━━━━━━━━━━━━━━━━━━━━\u001b[0m\u001b[37m\u001b[0m \u001b[1m1s\u001b[0m 7ms/step - loss: 0.0385 - val_loss: 0.0394\n",
            "Epoch 24/50\n",
            "\u001b[1m94/94\u001b[0m \u001b[32m━━━━━━━━━━━━━━━━━━━━\u001b[0m\u001b[37m\u001b[0m \u001b[1m1s\u001b[0m 7ms/step - loss: 0.0381 - val_loss: 0.0395\n",
            "Epoch 25/50\n",
            "\u001b[1m94/94\u001b[0m \u001b[32m━━━━━━━━━━━━━━━━━━━━\u001b[0m\u001b[37m\u001b[0m \u001b[1m1s\u001b[0m 4ms/step - loss: 0.0382 - val_loss: 0.0394\n",
            "Epoch 26/50\n",
            "\u001b[1m94/94\u001b[0m \u001b[32m━━━━━━━━━━━━━━━━━━━━\u001b[0m\u001b[37m\u001b[0m \u001b[1m1s\u001b[0m 4ms/step - loss: 0.0381 - val_loss: 0.0396\n",
            "Epoch 27/50\n",
            "\u001b[1m94/94\u001b[0m \u001b[32m━━━━━━━━━━━━━━━━━━━━\u001b[0m\u001b[37m\u001b[0m \u001b[1m0s\u001b[0m 4ms/step - loss: 0.0377 - val_loss: 0.0396\n",
            "Epoch 28/50\n",
            "\u001b[1m94/94\u001b[0m \u001b[32m━━━━━━━━━━━━━━━━━━━━\u001b[0m\u001b[37m\u001b[0m \u001b[1m0s\u001b[0m 4ms/step - loss: 0.0376 - val_loss: 0.0395\n",
            "Epoch 29/50\n",
            "\u001b[1m94/94\u001b[0m \u001b[32m━━━━━━━━━━━━━━━━━━━━\u001b[0m\u001b[37m\u001b[0m \u001b[1m0s\u001b[0m 4ms/step - loss: 0.0379 - val_loss: 0.0397\n",
            "Epoch 30/50\n",
            "\u001b[1m94/94\u001b[0m \u001b[32m━━━━━━━━━━━━━━━━━━━━\u001b[0m\u001b[37m\u001b[0m \u001b[1m0s\u001b[0m 4ms/step - loss: 0.0374 - val_loss: 0.0398\n",
            "Epoch 31/50\n",
            "\u001b[1m94/94\u001b[0m \u001b[32m━━━━━━━━━━━━━━━━━━━━\u001b[0m\u001b[37m\u001b[0m \u001b[1m1s\u001b[0m 4ms/step - loss: 0.0376 - val_loss: 0.0397\n",
            "Epoch 32/50\n",
            "\u001b[1m94/94\u001b[0m \u001b[32m━━━━━━━━━━━━━━━━━━━━\u001b[0m\u001b[37m\u001b[0m \u001b[1m0s\u001b[0m 4ms/step - loss: 0.0375 - val_loss: 0.0398\n",
            "Epoch 33/50\n",
            "\u001b[1m94/94\u001b[0m \u001b[32m━━━━━━━━━━━━━━━━━━━━\u001b[0m\u001b[37m\u001b[0m \u001b[1m1s\u001b[0m 4ms/step - loss: 0.0372 - val_loss: 0.0397\n",
            "Epoch 34/50\n",
            "\u001b[1m94/94\u001b[0m \u001b[32m━━━━━━━━━━━━━━━━━━━━\u001b[0m\u001b[37m\u001b[0m \u001b[1m1s\u001b[0m 4ms/step - loss: 0.0373 - val_loss: 0.0399\n",
            "Epoch 35/50\n",
            "\u001b[1m94/94\u001b[0m \u001b[32m━━━━━━━━━━━━━━━━━━━━\u001b[0m\u001b[37m\u001b[0m \u001b[1m1s\u001b[0m 3ms/step - loss: 0.0370 - val_loss: 0.0400\n",
            "Epoch 36/50\n",
            "\u001b[1m94/94\u001b[0m \u001b[32m━━━━━━━━━━━━━━━━━━━━\u001b[0m\u001b[37m\u001b[0m \u001b[1m0s\u001b[0m 4ms/step - loss: 0.0376 - val_loss: 0.0399\n",
            "Epoch 37/50\n",
            "\u001b[1m94/94\u001b[0m \u001b[32m━━━━━━━━━━━━━━━━━━━━\u001b[0m\u001b[37m\u001b[0m \u001b[1m0s\u001b[0m 4ms/step - loss: 0.0368 - val_loss: 0.0402\n",
            "Epoch 38/50\n",
            "\u001b[1m94/94\u001b[0m \u001b[32m━━━━━━━━━━━━━━━━━━━━\u001b[0m\u001b[37m\u001b[0m \u001b[1m0s\u001b[0m 4ms/step - loss: 0.0368 - val_loss: 0.0401\n",
            "Epoch 39/50\n",
            "\u001b[1m94/94\u001b[0m \u001b[32m━━━━━━━━━━━━━━━━━━━━\u001b[0m\u001b[37m\u001b[0m \u001b[1m0s\u001b[0m 4ms/step - loss: 0.0372 - val_loss: 0.0401\n",
            "Epoch 40/50\n",
            "\u001b[1m94/94\u001b[0m \u001b[32m━━━━━━━━━━━━━━━━━━━━\u001b[0m\u001b[37m\u001b[0m \u001b[1m1s\u001b[0m 4ms/step - loss: 0.0372 - val_loss: 0.0402\n",
            "Epoch 41/50\n",
            "\u001b[1m94/94\u001b[0m \u001b[32m━━━━━━━━━━━━━━━━━━━━\u001b[0m\u001b[37m\u001b[0m \u001b[1m1s\u001b[0m 4ms/step - loss: 0.0361 - val_loss: 0.0401\n",
            "Epoch 42/50\n",
            "\u001b[1m94/94\u001b[0m \u001b[32m━━━━━━━━━━━━━━━━━━━━\u001b[0m\u001b[37m\u001b[0m \u001b[1m1s\u001b[0m 4ms/step - loss: 0.0367 - val_loss: 0.0400\n",
            "Epoch 43/50\n",
            "\u001b[1m94/94\u001b[0m \u001b[32m━━━━━━━━━━━━━━━━━━━━\u001b[0m\u001b[37m\u001b[0m \u001b[1m1s\u001b[0m 4ms/step - loss: 0.0362 - val_loss: 0.0404\n",
            "Epoch 44/50\n",
            "\u001b[1m94/94\u001b[0m \u001b[32m━━━━━━━━━━━━━━━━━━━━\u001b[0m\u001b[37m\u001b[0m \u001b[1m1s\u001b[0m 7ms/step - loss: 0.0363 - val_loss: 0.0403\n",
            "Epoch 45/50\n",
            "\u001b[1m94/94\u001b[0m \u001b[32m━━━━━━━━━━━━━━━━━━━━\u001b[0m\u001b[37m\u001b[0m \u001b[1m1s\u001b[0m 5ms/step - loss: 0.0365 - val_loss: 0.0404\n",
            "Epoch 46/50\n",
            "\u001b[1m94/94\u001b[0m \u001b[32m━━━━━━━━━━━━━━━━━━━━\u001b[0m\u001b[37m\u001b[0m \u001b[1m1s\u001b[0m 7ms/step - loss: 0.0364 - val_loss: 0.0405\n",
            "Epoch 47/50\n",
            "\u001b[1m94/94\u001b[0m \u001b[32m━━━━━━━━━━━━━━━━━━━━\u001b[0m\u001b[37m\u001b[0m \u001b[1m1s\u001b[0m 3ms/step - loss: 0.0354 - val_loss: 0.0404\n",
            "Epoch 48/50\n",
            "\u001b[1m94/94\u001b[0m \u001b[32m━━━━━━━━━━━━━━━━━━━━\u001b[0m\u001b[37m\u001b[0m \u001b[1m0s\u001b[0m 3ms/step - loss: 0.0359 - val_loss: 0.0407\n",
            "Epoch 49/50\n",
            "\u001b[1m94/94\u001b[0m \u001b[32m━━━━━━━━━━━━━━━━━━━━\u001b[0m\u001b[37m\u001b[0m \u001b[1m0s\u001b[0m 4ms/step - loss: 0.0358 - val_loss: 0.0406\n",
            "Epoch 50/50\n",
            "\u001b[1m94/94\u001b[0m \u001b[32m━━━━━━━━━━━━━━━━━━━━\u001b[0m\u001b[37m\u001b[0m \u001b[1m1s\u001b[0m 4ms/step - loss: 0.0354 - val_loss: 0.0408\n"
          ]
        },
        {
          "output_type": "display_data",
          "data": {
            "text/plain": [
              "\u001b[1mModel: \"sequential_5\"\u001b[0m\n"
            ],
            "text/html": [
              "<pre style=\"white-space:pre;overflow-x:auto;line-height:normal;font-family:Menlo,'DejaVu Sans Mono',consolas,'Courier New',monospace\"><span style=\"font-weight: bold\">Model: \"sequential_5\"</span>\n",
              "</pre>\n"
            ]
          },
          "metadata": {}
        },
        {
          "output_type": "display_data",
          "data": {
            "text/plain": [
              "┏━━━━━━━━━━━━━━━━━━━━━━━━━━━━━━━━━┳━━━━━━━━━━━━━━━━━━━━━━━━┳━━━━━━━━━━━━━━━┓\n",
              "┃\u001b[1m \u001b[0m\u001b[1mLayer (type)                   \u001b[0m\u001b[1m \u001b[0m┃\u001b[1m \u001b[0m\u001b[1mOutput Shape          \u001b[0m\u001b[1m \u001b[0m┃\u001b[1m \u001b[0m\u001b[1m      Param #\u001b[0m\u001b[1m \u001b[0m┃\n",
              "┡━━━━━━━━━━━━━━━━━━━━━━━━━━━━━━━━━╇━━━━━━━━━━━━━━━━━━━━━━━━╇━━━━━━━━━━━━━━━┩\n",
              "│ flatten_3 (\u001b[38;5;33mFlatten\u001b[0m)             │ (\u001b[38;5;45mNone\u001b[0m, \u001b[38;5;34m40\u001b[0m)             │             \u001b[38;5;34m0\u001b[0m │\n",
              "├─────────────────────────────────┼────────────────────────┼───────────────┤\n",
              "│ dense_11 (\u001b[38;5;33mDense\u001b[0m)                │ (\u001b[38;5;45mNone\u001b[0m, \u001b[38;5;34m64\u001b[0m)             │         \u001b[38;5;34m2,624\u001b[0m │\n",
              "├─────────────────────────────────┼────────────────────────┼───────────────┤\n",
              "│ dropout_10 (\u001b[38;5;33mDropout\u001b[0m)            │ (\u001b[38;5;45mNone\u001b[0m, \u001b[38;5;34m64\u001b[0m)             │             \u001b[38;5;34m0\u001b[0m │\n",
              "├─────────────────────────────────┼────────────────────────┼───────────────┤\n",
              "│ dense_12 (\u001b[38;5;33mDense\u001b[0m)                │ (\u001b[38;5;45mNone\u001b[0m, \u001b[38;5;34m32\u001b[0m)             │         \u001b[38;5;34m2,080\u001b[0m │\n",
              "├─────────────────────────────────┼────────────────────────┼───────────────┤\n",
              "│ dropout_11 (\u001b[38;5;33mDropout\u001b[0m)            │ (\u001b[38;5;45mNone\u001b[0m, \u001b[38;5;34m32\u001b[0m)             │             \u001b[38;5;34m0\u001b[0m │\n",
              "├─────────────────────────────────┼────────────────────────┼───────────────┤\n",
              "│ dense_13 (\u001b[38;5;33mDense\u001b[0m)                │ (\u001b[38;5;45mNone\u001b[0m, \u001b[38;5;34m4\u001b[0m)              │           \u001b[38;5;34m132\u001b[0m │\n",
              "└─────────────────────────────────┴────────────────────────┴───────────────┘\n"
            ],
            "text/html": [
              "<pre style=\"white-space:pre;overflow-x:auto;line-height:normal;font-family:Menlo,'DejaVu Sans Mono',consolas,'Courier New',monospace\">┏━━━━━━━━━━━━━━━━━━━━━━━━━━━━━━━━━┳━━━━━━━━━━━━━━━━━━━━━━━━┳━━━━━━━━━━━━━━━┓\n",
              "┃<span style=\"font-weight: bold\"> Layer (type)                    </span>┃<span style=\"font-weight: bold\"> Output Shape           </span>┃<span style=\"font-weight: bold\">       Param # </span>┃\n",
              "┡━━━━━━━━━━━━━━━━━━━━━━━━━━━━━━━━━╇━━━━━━━━━━━━━━━━━━━━━━━━╇━━━━━━━━━━━━━━━┩\n",
              "│ flatten_3 (<span style=\"color: #0087ff; text-decoration-color: #0087ff\">Flatten</span>)             │ (<span style=\"color: #00d7ff; text-decoration-color: #00d7ff\">None</span>, <span style=\"color: #00af00; text-decoration-color: #00af00\">40</span>)             │             <span style=\"color: #00af00; text-decoration-color: #00af00\">0</span> │\n",
              "├─────────────────────────────────┼────────────────────────┼───────────────┤\n",
              "│ dense_11 (<span style=\"color: #0087ff; text-decoration-color: #0087ff\">Dense</span>)                │ (<span style=\"color: #00d7ff; text-decoration-color: #00d7ff\">None</span>, <span style=\"color: #00af00; text-decoration-color: #00af00\">64</span>)             │         <span style=\"color: #00af00; text-decoration-color: #00af00\">2,624</span> │\n",
              "├─────────────────────────────────┼────────────────────────┼───────────────┤\n",
              "│ dropout_10 (<span style=\"color: #0087ff; text-decoration-color: #0087ff\">Dropout</span>)            │ (<span style=\"color: #00d7ff; text-decoration-color: #00d7ff\">None</span>, <span style=\"color: #00af00; text-decoration-color: #00af00\">64</span>)             │             <span style=\"color: #00af00; text-decoration-color: #00af00\">0</span> │\n",
              "├─────────────────────────────────┼────────────────────────┼───────────────┤\n",
              "│ dense_12 (<span style=\"color: #0087ff; text-decoration-color: #0087ff\">Dense</span>)                │ (<span style=\"color: #00d7ff; text-decoration-color: #00d7ff\">None</span>, <span style=\"color: #00af00; text-decoration-color: #00af00\">32</span>)             │         <span style=\"color: #00af00; text-decoration-color: #00af00\">2,080</span> │\n",
              "├─────────────────────────────────┼────────────────────────┼───────────────┤\n",
              "│ dropout_11 (<span style=\"color: #0087ff; text-decoration-color: #0087ff\">Dropout</span>)            │ (<span style=\"color: #00d7ff; text-decoration-color: #00d7ff\">None</span>, <span style=\"color: #00af00; text-decoration-color: #00af00\">32</span>)             │             <span style=\"color: #00af00; text-decoration-color: #00af00\">0</span> │\n",
              "├─────────────────────────────────┼────────────────────────┼───────────────┤\n",
              "│ dense_13 (<span style=\"color: #0087ff; text-decoration-color: #0087ff\">Dense</span>)                │ (<span style=\"color: #00d7ff; text-decoration-color: #00d7ff\">None</span>, <span style=\"color: #00af00; text-decoration-color: #00af00\">4</span>)              │           <span style=\"color: #00af00; text-decoration-color: #00af00\">132</span> │\n",
              "└─────────────────────────────────┴────────────────────────┴───────────────┘\n",
              "</pre>\n"
            ]
          },
          "metadata": {}
        },
        {
          "output_type": "display_data",
          "data": {
            "text/plain": [
              "\u001b[1m Total params: \u001b[0m\u001b[38;5;34m14,510\u001b[0m (56.68 KB)\n"
            ],
            "text/html": [
              "<pre style=\"white-space:pre;overflow-x:auto;line-height:normal;font-family:Menlo,'DejaVu Sans Mono',consolas,'Courier New',monospace\"><span style=\"font-weight: bold\"> Total params: </span><span style=\"color: #00af00; text-decoration-color: #00af00\">14,510</span> (56.68 KB)\n",
              "</pre>\n"
            ]
          },
          "metadata": {}
        },
        {
          "output_type": "display_data",
          "data": {
            "text/plain": [
              "\u001b[1m Trainable params: \u001b[0m\u001b[38;5;34m4,836\u001b[0m (18.89 KB)\n"
            ],
            "text/html": [
              "<pre style=\"white-space:pre;overflow-x:auto;line-height:normal;font-family:Menlo,'DejaVu Sans Mono',consolas,'Courier New',monospace\"><span style=\"font-weight: bold\"> Trainable params: </span><span style=\"color: #00af00; text-decoration-color: #00af00\">4,836</span> (18.89 KB)\n",
              "</pre>\n"
            ]
          },
          "metadata": {}
        },
        {
          "output_type": "display_data",
          "data": {
            "text/plain": [
              "\u001b[1m Non-trainable params: \u001b[0m\u001b[38;5;34m0\u001b[0m (0.00 B)\n"
            ],
            "text/html": [
              "<pre style=\"white-space:pre;overflow-x:auto;line-height:normal;font-family:Menlo,'DejaVu Sans Mono',consolas,'Courier New',monospace\"><span style=\"font-weight: bold\"> Non-trainable params: </span><span style=\"color: #00af00; text-decoration-color: #00af00\">0</span> (0.00 B)\n",
              "</pre>\n"
            ]
          },
          "metadata": {}
        },
        {
          "output_type": "display_data",
          "data": {
            "text/plain": [
              "\u001b[1m Optimizer params: \u001b[0m\u001b[38;5;34m9,674\u001b[0m (37.79 KB)\n"
            ],
            "text/html": [
              "<pre style=\"white-space:pre;overflow-x:auto;line-height:normal;font-family:Menlo,'DejaVu Sans Mono',consolas,'Courier New',monospace\"><span style=\"font-weight: bold\"> Optimizer params: </span><span style=\"color: #00af00; text-decoration-color: #00af00\">9,674</span> (37.79 KB)\n",
              "</pre>\n"
            ]
          },
          "metadata": {}
        }
      ],
      "source": [
        "file_path = '/content/gdrive/MyDrive/Lab4_IOT/Seawater_Quality_Monitoring.csv'\n",
        "df = pd.read_csv(file_path)\n",
        "\n",
        "sensor_cols = ['pH', 'ORP', 'EC', 'TUR']\n",
        "data = df[sensor_cols].values\n",
        "\n",
        "# standardize data\n",
        "scaler = MinMaxScaler()\n",
        "scaled_data = scaler.fit_transform(data)\n",
        "\n",
        "def create_sequences(dataset, time_step = 10, seq_cols = None, label_col = None):\n",
        "    if isinstance(dataset, np.ndarray):\n",
        "        dataset = pd.DataFrame(dataset, columns=seq_cols)\n",
        "\n",
        "    # df_zeros = pd.DataFrame(np.zeros((time_step - 1, len(dataset.columns))), columns = dataset.columns)\n",
        "    # dataset = df_zeros.append(dataset, ignore_index = True)\n",
        "\n",
        "    df_zeros = pd.DataFrame(np.zeros((time_step - 1, len(dataset.columns))), columns=dataset.columns)\n",
        "    dataset = pd.concat([df_zeros, dataset], ignore_index=True)\n",
        "\n",
        "    data_array = dataset[seq_cols].values\n",
        "\n",
        "    X, y = [], []\n",
        "    num_elements = data_array.shape[0]\n",
        "\n",
        "    # create time series and label for each sample\n",
        "    for start, stop in zip(range(0, num_elements - time_step), range(time_step, num_elements)):\n",
        "        X.append(data_array[start:stop, :])\n",
        "        y.append(dataset[label_col].iloc[stop])\n",
        "\n",
        "    return np.array(X), np.array(y)\n",
        "\n",
        "X, y = create_sequences(scaled_data, time_step = 10, seq_cols = sensor_cols, label_col = sensor_cols)\n",
        "\n",
        "# divide data upon on size\n",
        "train_size = int(len(X) * 0.6)\n",
        "X_train, X_test = X[:train_size], X[train_size:]\n",
        "y_train, y_test = y[:train_size], y[train_size:]\n",
        "\n",
        "# build and train the simple DL model\n",
        "model = Sequential()\n",
        "model.add(Input(shape=(X_train.shape[1], X_train.shape[2])))\n",
        "# model.add(LSTM(64, return_sequences=True))\n",
        "model.add(Flatten())\n",
        "model.add(Dense(64, activation='relu'))\n",
        "model.add(Dropout(0.2))\n",
        "# model.add(LSTM(32))\n",
        "model.add(Dense(32, activation='relu'))\n",
        "model.add(Dropout(0.2))\n",
        "model.add(Dense(4)) # make sure 4 output: pH, ORP, EC, TUR\n",
        "\n",
        "model.compile(optimizer = Adam(learning_rate = 0.001), loss = 'mean_squared_logarithmic_error')\n",
        "\n",
        "history = model.fit(\n",
        "    X_train, y_train,\n",
        "    epochs = 50,\n",
        "    batch_size = 32,\n",
        "    validation_data = (X_test, y_test),\n",
        "    verbose = 1\n",
        ")\n",
        "\n",
        "model.summary()\n",
        "model.save('/content/gdrive/MyDrive/Lab4_IOT/Simple_Deep_Learning_Model/simple_model.keras')"
      ]
    },
    {
      "cell_type": "code",
      "execution_count": 42,
      "metadata": {
        "colab": {
          "base_uri": "https://localhost:8080/",
          "height": 1000
        },
        "id": "Qbh33Zi9qcpu",
        "outputId": "85ec999d-73e9-433c-f89d-477283f0c2f7"
      },
      "outputs": [
        {
          "output_type": "stream",
          "name": "stdout",
          "text": [
            "Model size: 0.09 MB\n",
            "Saved artifact at '/tmp/tmp8u2bkwf0'. The following endpoints are available:\n",
            "\n",
            "* Endpoint 'serve'\n",
            "  args_0 (POSITIONAL_ONLY): TensorSpec(shape=(None, 10, 4), dtype=tf.float32, name='input_layer_5')\n",
            "Output Type:\n",
            "  TensorSpec(shape=(None, 4), dtype=tf.float32, name=None)\n",
            "Captures:\n",
            "  136552820710800: TensorSpec(shape=(), dtype=tf.resource, name=None)\n",
            "  136552819522832: TensorSpec(shape=(), dtype=tf.resource, name=None)\n",
            "  136552839668816: TensorSpec(shape=(), dtype=tf.resource, name=None)\n",
            "  136552839669584: TensorSpec(shape=(), dtype=tf.resource, name=None)\n",
            "  136552839660560: TensorSpec(shape=(), dtype=tf.resource, name=None)\n",
            "  136552839660368: TensorSpec(shape=(), dtype=tf.resource, name=None)\n",
            "\u001b[1m63/63\u001b[0m \u001b[32m━━━━━━━━━━━━━━━━━━━━\u001b[0m\u001b[37m\u001b[0m \u001b[1m0s\u001b[0m 2ms/step\n",
            "----- Time 1 -----\n",
            "pH sensor: Predicted value = 7.9601, Actual value = 7.9742, RMSE value = 0.0141\n",
            "ORP sensor: Predicted value = 244.2473, Actual value = 262.9229, RMSE value = 18.6756\n",
            "EC sensor: Predicted value = 48384.4141, Actual value = 49688.8762, RMSE value = 1304.4621\n",
            "TUR sensor: Predicted value = 4.4805, Actual value = 3.5551, RMSE value = 0.9254\n",
            "----- Time 2 -----\n",
            "pH sensor: Predicted value = 7.9475, Actual value = 7.6395, RMSE value = 0.3080\n",
            "ORP sensor: Predicted value = 250.4354, Actual value = 263.0315, RMSE value = 12.5961\n",
            "EC sensor: Predicted value = 50584.8711, Actual value = 54978.4485, RMSE value = 4393.5774\n",
            "TUR sensor: Predicted value = 6.2789, Actual value = 9.2310, RMSE value = 2.9521\n",
            "----- Time 3 -----\n",
            "pH sensor: Predicted value = 7.9012, Actual value = 7.5030, RMSE value = 0.3982\n",
            "ORP sensor: Predicted value = 244.7749, Actual value = 206.6660, RMSE value = 38.1089\n",
            "EC sensor: Predicted value = 51014.3984, Actual value = 57988.1132, RMSE value = 6973.7148\n",
            "TUR sensor: Predicted value = 4.4438, Actual value = 6.3116, RMSE value = 1.8678\n",
            "----- Time 4 -----\n",
            "pH sensor: Predicted value = 7.9506, Actual value = 8.4579, RMSE value = 0.5073\n",
            "ORP sensor: Predicted value = 247.0676, Actual value = 243.0845, RMSE value = 3.9831\n",
            "EC sensor: Predicted value = 49622.1914, Actual value = 48333.7434, RMSE value = 1288.4480\n",
            "TUR sensor: Predicted value = 4.5650, Actual value = 3.4426, RMSE value = 1.1224\n",
            "----- Time 5 -----\n",
            "pH sensor: Predicted value = 7.9617, Actual value = 7.6428, RMSE value = 0.3189\n",
            "ORP sensor: Predicted value = 248.2066, Actual value = 237.8633, RMSE value = 10.3433\n",
            "EC sensor: Predicted value = 50178.0742, Actual value = 40292.9708, RMSE value = 9885.1034\n",
            "TUR sensor: Predicted value = 5.1126, Actual value = 5.0931, RMSE value = 0.0195\n",
            "----- Time 6 -----\n",
            "pH sensor: Predicted value = 8.0448, Actual value = 8.3472, RMSE value = 0.3024\n",
            "ORP sensor: Predicted value = 249.2534, Actual value = 232.1197, RMSE value = 17.1337\n",
            "EC sensor: Predicted value = 50696.8750, Actual value = 41892.8031, RMSE value = 8804.0719\n",
            "TUR sensor: Predicted value = 3.5819, Actual value = 9.7376, RMSE value = 6.1557\n",
            "----- Time 7 -----\n",
            "pH sensor: Predicted value = 8.1540, Actual value = 7.6290, RMSE value = 0.5250\n",
            "ORP sensor: Predicted value = 249.1220, Actual value = 252.8697, RMSE value = 3.7477\n",
            "EC sensor: Predicted value = 49903.5312, Actual value = 56183.7137, RMSE value = 6280.1825\n",
            "TUR sensor: Predicted value = 5.9576, Actual value = 2.5235, RMSE value = 3.4341\n",
            "----- Time 8 -----\n",
            "pH sensor: Predicted value = 7.9076, Actual value = 8.3415, RMSE value = 0.4339\n",
            "ORP sensor: Predicted value = 242.1496, Actual value = 255.7025, RMSE value = 13.5529\n",
            "EC sensor: Predicted value = 48794.3516, Actual value = 46638.7136, RMSE value = 2155.6380\n",
            "TUR sensor: Predicted value = 4.5790, Actual value = 8.6569, RMSE value = 4.0779\n",
            "----- Time 9 -----\n",
            "pH sensor: Predicted value = 7.8959, Actual value = 8.1220, RMSE value = 0.2261\n",
            "ORP sensor: Predicted value = 242.4014, Actual value = 261.5384, RMSE value = 19.1370\n",
            "EC sensor: Predicted value = 48756.7422, Actual value = 50080.1943, RMSE value = 1323.4521\n",
            "TUR sensor: Predicted value = 5.1266, Actual value = 2.7474, RMSE value = 2.3792\n",
            "----- Time 10 -----\n",
            "pH sensor: Predicted value = 7.9047, Actual value = 7.8049, RMSE value = 0.0998\n",
            "ORP sensor: Predicted value = 241.7786, Actual value = 208.8079, RMSE value = 32.9707\n",
            "EC sensor: Predicted value = 48595.0195, Actual value = 44874.4741, RMSE value = 3720.5454\n",
            "TUR sensor: Predicted value = 4.0050, Actual value = 2.7783, RMSE value = 1.2267\n"
          ]
        },
        {
          "output_type": "error",
          "ename": "KeyboardInterrupt",
          "evalue": "",
          "traceback": [
            "\u001b[0;31m---------------------------------------------------------------------------\u001b[0m",
            "\u001b[0;31mKeyboardInterrupt\u001b[0m                         Traceback (most recent call last)",
            "\u001b[0;32m<ipython-input-42-11de3d1e1418>\u001b[0m in \u001b[0;36m<cell line: 0>\u001b[0;34m()\u001b[0m\n\u001b[1;32m     52\u001b[0m         \u001b[0mprint\u001b[0m\u001b[0;34m(\u001b[0m\u001b[0;34mf\"{sensor_names[j]} sensor: Predicted value = {pred:.4f}, Actual value = {actual:.4f}, RMSE value = {rmse:.4f}\"\u001b[0m\u001b[0;34m)\u001b[0m\u001b[0;34m\u001b[0m\u001b[0;34m\u001b[0m\u001b[0m\n\u001b[1;32m     53\u001b[0m \u001b[0;34m\u001b[0m\u001b[0m\n\u001b[0;32m---> 54\u001b[0;31m     \u001b[0mtime\u001b[0m\u001b[0;34m.\u001b[0m\u001b[0msleep\u001b[0m\u001b[0;34m(\u001b[0m\u001b[0;36m5\u001b[0m\u001b[0;34m)\u001b[0m\u001b[0;34m\u001b[0m\u001b[0;34m\u001b[0m\u001b[0m\n\u001b[0m",
            "\u001b[0;31mKeyboardInterrupt\u001b[0m: "
          ]
        }
      ],
      "source": [
        "model = tf.keras.models.load_model('/content/gdrive/MyDrive/Lab4_IOT/Simple_Deep_Learning_Model/simple_model.keras')\n",
        "\n",
        "model_size = os.path.getsize('/content/gdrive/MyDrive/Lab4_IOT/Simple_Deep_Learning_Model/simple_model.keras')\n",
        "print(f\"Model size: {model_size / (1024 * 1024):.2f} MB\")\n",
        "\n",
        "converter = tf.lite.TFLiteConverter.from_keras_model(model)\n",
        "\n",
        "# def representative_dataset():\n",
        "#     for i in range(100):\n",
        "#         index = np.random.randint(X_train.shape[0])\n",
        "#         yield [X_train[index:index+1].astype(np.float32)]\n",
        "\n",
        "# converter.optimizations = [tf.lite.Optimize.DEFAULT]\n",
        "# converter.representative_dataset = representative_dataset\n",
        "# converter.inference_input_type = tf.uint8\n",
        "# converter.inference_output_type = tf.uint8\n",
        "\n",
        "# converter.experimental_enable_resource_variables = True\n",
        "# converter.target_spec.supported_ops = [\n",
        "#     tf.lite.OpsSet.TFLITE_BUILTINS,\n",
        "#     tf.lite.OpsSet.SELECT_TF_OPS\n",
        "# ]\n",
        "# converter._experimental_lower_tensor_list_ops = False\n",
        "\n",
        "tflite_model = converter.convert()\n",
        "\n",
        "with open('/content/gdrive/MyDrive/Lab4_IOT/LSTM_Model/model.tflite', 'wb') as f:\n",
        "    f.write(tflite_model)\n",
        "\n",
        "# quantized_model_size = os.path.getsize('/content/gdrive/MyDrive/Lab4_IOT/LSTM_Model/model.tflite')\n",
        "# print(f\"Quantized TFLite model size: {quantized_model_size / (1024 * 1024):.2f} MB\")\n",
        "\n",
        "# predict and return to original value\n",
        "y_pred = model.predict(X_test)\n",
        "y_pred_inv = scaler.inverse_transform(y_pred)\n",
        "y_test_inv = scaler.inverse_transform(y_test)\n",
        "\n",
        "# r2 = r2_score(y_test_inv, y_pred_inv)\n",
        "# print(f\"Overall R² value: {r2:.4f}\")\n",
        "\n",
        "sensor_names = ['pH', 'ORP', 'EC', 'TUR']\n",
        "\n",
        "for i in range(len(y_test_inv)):\n",
        "    print(f\"----- Time {i + 1} -----\")\n",
        "\n",
        "    for j in range(4):\n",
        "        pred = y_pred_inv[i][j]\n",
        "        actual = y_test_inv[i][j]\n",
        "        rmse = np.sqrt(mean_squared_error([actual], [pred]))\n",
        "        # r2_sensor = r2_score([actual], [pred])\n",
        "\n",
        "        print(f\"{sensor_names[j]} sensor: Predicted value = {pred:.4f}, Actual value = {actual:.4f}, RMSE value = {rmse:.4f}\")\n",
        "\n",
        "    time.sleep(5)"
      ]
    }
  ],
  "metadata": {
    "colab": {
      "provenance": []
    },
    "kernelspec": {
      "display_name": "Python 3",
      "name": "python3"
    },
    "language_info": {
      "name": "python"
    }
  },
  "nbformat": 4,
  "nbformat_minor": 0
}